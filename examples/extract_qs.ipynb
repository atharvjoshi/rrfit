{
 "cells": [
  {
   "cell_type": "markdown",
   "metadata": {},
   "source": [
    "Example notebook for extracting resonator quality factors from complex S21 data"
   ]
  },
  {
   "cell_type": "code",
   "execution_count": 1,
   "metadata": {},
   "outputs": [],
   "source": [
    "# enter the location of the data folder\n",
    "# the folder must contain data files collected from measurements on the same chip\n",
    "data_folder = \"Y:/t1Team/Data/2024-02-29_BFG_cooldown/2023-11-30_TAHP02_Au+96nm/NFS/\""
   ]
  },
  {
   "cell_type": "code",
   "execution_count": 2,
   "metadata": {},
   "outputs": [],
   "source": [
    "# IMPORTS\n",
    "from rrfit.dataloader import Loader"
   ]
  },
  {
   "cell_type": "code",
   "execution_count": 3,
   "metadata": {},
   "outputs": [],
   "source": [
    "# by default, the Loader will load traces of all the devices it can find in the data folder\n",
    "chip = Loader(data_folder).chip  # Chip object\n",
    "devices = chip.devices  # dict with key = device name and value = Device object\n",
    "\n",
    "# do this if you want to select which devices to load\n",
    "# invalid device names will be ignored\n",
    "#chip = Loader(data_folder, devices=[\"5p95\", \"6p53\", \"invalid\"]).chip\n",
    "#devices = chip.devices"
   ]
  },
  {
   "cell_type": "code",
   "execution_count": 4,
   "metadata": {},
   "outputs": [],
   "source": [
    "# lets start with a test trace\n",
    "trace = devices[\"5p95\"].traces[2]"
   ]
  },
  {
   "cell_type": "code",
   "execution_count": 5,
   "metadata": {},
   "outputs": [
    {
     "name": "stdout",
     "output_type": "stream",
     "text": [
      "[[Model]]\n",
      "    Model(S21PhaseLinearModel)\n",
      "[[Fit Statistics]]\n",
      "    # fitting method   = leastsq\n",
      "    # function evals   = 7\n",
      "    # data points      = 30\n",
      "    # variables        = 2\n",
      "    chi-square         = 3.3642e-05\n",
      "    reduced chi-square = 1.2015e-06\n",
      "    Akaike info crit   = -407.027967\n",
      "    Bayesian info crit = -404.225572\n",
      "    R-squared          = 0.99562768\n",
      "[[Variables]]\n",
      "    tau:   -1.74954574 +/- 0.02191051 (1.25%) (init = -1.754686)\n",
      "    theta:  65429.7616 +/- 819.398042 (1.25%) (init = 65622)\n",
      "[[Correlations]] (unreported correlations are < 0.100)\n",
      "    C(tau, theta) = -1.0000\n",
      "[[Model]]\n",
      "    Model(S21PhaseLinearModel)\n",
      "[[Fit Statistics]]\n",
      "    # fitting method   = leastsq\n",
      "    # function evals   = 7\n",
      "    # data points      = 30\n",
      "    # variables        = 2\n",
      "    chi-square         = 2.9094e-05\n",
      "    reduced chi-square = 1.0391e-06\n",
      "    Akaike info crit   = -411.384939\n",
      "    Bayesian info crit = -408.582544\n",
      "    R-squared          = 0.99650336\n",
      "[[Variables]]\n",
      "    tau:   -1.82016206 +/- 0.02037589 (1.12%) (init = -1.809552)\n",
      "    theta:  68070.5282 +/- 762.021379 (1.12%) (init = 67673.74)\n",
      "[[Correlations]] (unreported correlations are < 0.100)\n",
      "    C(tau, theta) = -1.0000\n"
     ]
    }
   ],
   "source": [
    "# remove cable delay\n",
    "# exclude is a tuple of ints that specify the window of data points to be excluded from cable delay fit\n",
    "# exclude=None will fit the entire phase profile of the raw S21 data to a linear model\n",
    "s21_cd = trace.remove_cable_delay(exclude=(30, 670))\n",
    "\n",
    "# a future version will remove this cable delay removal step through a calibration step during data acquisition"
   ]
  },
  {
   "cell_type": "code",
   "execution_count": 6,
   "metadata": {},
   "outputs": [
    {
     "name": "stdout",
     "output_type": "stream",
     "text": [
      "[[Model]]\n",
      "    Model(S21CenteredPhaseModel)\n",
      "[[Fit Statistics]]\n",
      "    # fitting method   = leastsq\n",
      "    # function evals   = 6\n",
      "    # data points      = 700\n",
      "    # variables        = 4\n",
      "    chi-square         = 170.769278\n",
      "    reduced chi-square = 0.24535816\n",
      "    Akaike info crit   = -979.536860\n",
      "    Bayesian info crit = -961.332539\n",
      "    R-squared          = 0.96755649\n",
      "##  Warning: uncertainties could not be estimated:\n",
      "    fr:     at initial value\n",
      "    fr:     at boundary\n",
      "    sign:   at initial value\n",
      "    sign:   at boundary\n",
      "[[Variables]]\n",
      "    fr:     5952.04970 (init = 5952.052)\n",
      "    Ql:    -356625.468 (init = -79639.48)\n",
      "    theta:  0.22666175 (init = 0.2644434)\n",
      "    sign:         -inf (init = -inf)\n"
     ]
    },
    {
     "data": {
      "text/plain": [
       "<matplotlib.collections.PathCollection at 0x2ea5a756850>"
      ]
     },
     "execution_count": 6,
     "metadata": {},
     "output_type": "execute_result"
    },
    {
     "data": {
      "image/png": "[encoded data removed]",
      "text/plain": [
       "<Figure size 640x480 with 1 Axes>"
      ]
     },
     "metadata": {},
     "output_type": "display_data"
    }
   ],
   "source": [
    "# subtract the background to bring s21 to the canonical position\n",
    "s21_canonical = trace.remove_background()\n",
    "\n",
    "import matplotlib.pyplot as plt\n",
    "plt.gca().set(xlabel=\"I\", ylabel=\"Q\", title=\"Complex S21\")\n",
    "plt.gca().set_aspect(\"equal\", \"datalim\")\n",
    "plt.scatter(s21_canonical.real, s21_canonical.imag, s=2, c=\"g\", label=\"data\")\n"
   ]
  },
  {
   "cell_type": "code",
   "execution_count": null,
   "metadata": {},
   "outputs": [],
   "source": [
    "# PLOTTING ROUTINES FOR EACH DEVICE\n",
    "def prepare_plot():\n",
    "    \"\"\" \"\"\"\n",
    "    fig = plt.figure(tight_layout=True, figsize=(16, 16))\n",
    "    fig.suptitle(\"\\n\".join(names))\n",
    "    gs = GridSpec(13, 6, figure=fig)\n",
    "\n",
    "    # raw phase plot\n",
    "    raw_phase_ax = fig.add_subplot(gs[:3, :3])\n",
    "    raw_phase_ax.set(ylabel=\"arg(S21) (rad)\", title=\"Raw phase\")\n",
    "    raw_phase_ax.locator_params(axis=\"both\", nbins=6)\n"
   ]
  },
  {
   "cell_type": "code",
   "execution_count": null,
   "metadata": {},
   "outputs": [],
   "source": [
    "# FIT ROUTINE FOR EACH DEVICE (MAIN FUNCTION)\n",
    "def main(data, f):\n",
    "\n",
    "    # transform data\n",
    "    #s21mag = 20 * np.log10(np.abs(data))\n",
    "    s21phase = np.unwrap(np.angle(data))\n",
    "\n",
    "    # remove cable delay\n",
    "    tau = fit_cable_delay(s21phase, f, exclude=(200, 500))\n",
    "    s21 = data * np.exp(-1j * 2 * np.pi * f * tau)\n",
    "\n",
    "    # find the off-resonant point and bring s21 to the canonical position\n",
    "    orp = fit_background(s21, f)\n",
    "    s21c = s21 / orp\n",
    "\n",
    "    ## circle and phase fit to extract resonator parameters\n",
    "    radius, center = fit_circle(s21c)\n",
    "    cx, cy = center.real, center.imag\n",
    "\n",
    "    s21cphase = np.unwrap(np.angle((s21 - center)))\n",
    "    model = S21CenteredPhaseModel()\n",
    "    result = model.fit(s21cphase, f)\n",
    "\n",
    "    fr = result.best_values[\"fr\"]\n",
    "    Ql = result.best_values[\"Ql\"]\n",
    "\n",
    "    # must be -np.arcsin((orp.imag - center.imag) / radius) if orp is not ideal\n",
    "    phi = -np.arcsin(center.imag / radius)\n",
    "\n",
    "    Qc = Ql / (2 * radius * np.exp(-1j * phi))  # 1 for reflection and 2 for hanger mode\n",
    "    absQc = np.abs(Qc)\n",
    "    Qi = 1 / ((1 / Ql) - (1 / Qc.real))\n",
    "\n",
    "    plt.cla()\n",
    "    plt.gca().set(xlabel=\"I\", ylabel=\"Q\", title=\"Complex S21\")\n",
    "    plt.gca().set_aspect(\"equal\", \"datalim\")\n",
    "    plt.scatter(s21c.real, s21c.imag, s=2, c=\"g\", label=\"data\")\n",
    "    # plt.plot([orp.real], [orp.imag], \"o\", ms=8, c=\"k\")\n",
    "    # plt.plot([rp.real], [rp.imag], \"o\", ms=8, c=\"r\")\n",
    "    plt.plot([cx], [cy], \"o\", ms=8, c=\"g\")\n",
    "    circle = plt.Circle((cx, cy), radius, ec=\"r\", ls=\"--\", fill=False, label=\"fit\")\n",
    "    plt.gca().add_patch(circle)\n",
    "    plt.legend()\n",
    "\n",
    "    print(Qi)\n",
    "    print(phi)\n",
    "    print(absQc)\n",
    "    print(Ql)\n",
    "    print(fr)\n"
   ]
  },
  {
   "cell_type": "code",
   "execution_count": null,
   "metadata": {},
   "outputs": [],
   "source": [
    "# LOAD AND FIT DATA (ENTRY POINT TO MAIN FUNCTION)\n",
    "for file_path in Path(data_location).iterdir():\n",
    "\n",
    "    if file_path.suffix == \".pickle\":\n",
    "        file_name = file_path.stem\n",
    "        with open(file_path, \"rb\") as file:\n",
    "            data = pickle.load(file)\n",
    "        device_names = data[\"inputDict\"][\"names\"]\n",
    "\n",
    "        if file_name == \"data-2023-11-11-15-42-38\":\n",
    "            for i, dev_name in enumerate(device_names):\n",
    "                if not i:\n",
    "                    f = np.array(data[\"data\"][\"f\"][i])\n",
    "                    I = np.array(data[\"data\"][\"IArray\"][i])\n",
    "                    Q = np.array(data[\"data\"][\"QArray\"][i])\n",
    "                    s21 = I + 1j * Q\n",
    "                    main(s21, f)\n"
   ]
  }
 ],
 "metadata": {
  "kernelspec": {
   "display_name": "rrfit-CHKM9fPK-py3.9",
   "language": "python",
   "name": "python3"
  },
  "language_info": {
   "codemirror_mode": {
    "name": "ipython",
    "version": 3
   },
   "file_extension": ".py",
   "mimetype": "text/x-python",
   "name": "python",
   "nbconvert_exporter": "python",
   "pygments_lexer": "ipython3",
   "version": "3.9.13"
  }
 },
 "nbformat": 4,
 "nbformat_minor": 2
}
